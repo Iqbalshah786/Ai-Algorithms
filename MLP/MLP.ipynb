{
 "cells": [
  {
   "cell_type": "markdown",
   "id": "325b372d",
   "metadata": {},
   "source": [
    "# MLP"
   ]
  },
  {
   "cell_type": "code",
   "execution_count": null,
   "id": "7103a544",
   "metadata": {},
   "outputs": [],
   "source": [
    "import numpy as np\n",
    "import matplotlib.pyplot as plt"
   ]
  },
  {
   "cell_type": "code",
   "execution_count": null,
   "id": "94252233",
   "metadata": {},
   "outputs": [],
   "source": [
    "x = np.array([[0,0,1,1],[0,1,0,1]])\n",
    "y = np.array([[0,1,1,0]]) # XoR gate\n",
    "# y = np.array([[1,0,0,1]]) # XnoR gate\n",
    "no_x = 2\n",
    "no_y = 1\n",
    "no_h = 2\n",
    "tot = x.shape[1]\n",
    "lr = 0.1\n",
    "\n",
    "np.random.seed(2)\n",
    "w1 = np.random.rand(no_h,no_x)\n",
    "w2 = np.random.rand(no_y,no_h)\n",
    "losses = []"
   ]
  },
  {
   "cell_type": "code",
   "execution_count": 20,
   "id": "f72cc000",
   "metadata": {},
   "outputs": [],
   "source": [
    "def sigmoid(z):\n",
    "    z = 1/(1+np.exp(-z))\n",
    "    return z"
   ]
  },
  {
   "cell_type": "code",
   "execution_count": 21,
   "id": "f403bdc3",
   "metadata": {},
   "outputs": [],
   "source": [
    "# Forward Propagation\n",
    "def frwd_prop(w1,w2,x):\n",
    "    z1 = np.dot(w1,x)\n",
    "    a1 = sigmoid(z1)\n",
    "    z2 = np.dot(w2,a1)\n",
    "    a2 = sigmoid(z2)\n",
    "    \n",
    "    return z1,a1,z2,a2"
   ]
  },
  {
   "cell_type": "code",
   "execution_count": 22,
   "id": "95e301d3",
   "metadata": {},
   "outputs": [],
   "source": [
    "# Backward propagation\n",
    "def back_prop(tot, w1, w2, z1, a1, z2, a2, y):\n",
    "    dz2 = a2 - y\n",
    "    dw2 = np.dot(dz2, a1.T) / tot\n",
    "    dz1 = np.dot(w2.T, dz2) * a1 * (1 - a1)\n",
    "    dw1 = np.dot(dz1, x.T) / tot\n",
    "    dw1 = np.reshape(dw1, w1.shape)\n",
    "    \n",
    "    dw2 = np.reshape(dw2, w2.shape)\n",
    "    return dz2, dw2, dz1, dw1"
   ]
  },
  {
   "cell_type": "code",
   "execution_count": 23,
   "id": "cf7d6cee",
   "metadata": {},
   "outputs": [
    {
     "data": {
      "text/plain": [
       "Text(0, 0.5, 'Loss value')"
      ]
     },
     "execution_count": 23,
     "metadata": {},
     "output_type": "execute_result"
    },
    {
     "data": {
      "image/png": "[encoded data removed]",
      "text/plain": [
       "<Figure size 640x480 with 1 Axes>"
      ]
     },
     "metadata": {},
     "output_type": "display_data"
    }
   ],
   "source": [
    "# loss value\n",
    "epochs = 20000\n",
    "for i in range(epochs):\n",
    "    z1 , a1,z2,a2 = frwd_prop(w1,w2,x)\n",
    "    loss = -(1/tot) * np.sum(y*np.log(a2) + (1-y)*np.log(1-a2))\n",
    "    losses.append(loss)\n",
    "    dz2, dw2, dz1, dw1 = back_prop(tot, w1, w2, z1, a1, z2, a2, y)\n",
    "    w2 = w2 - lr*dw2\n",
    "    w1 = w1 - lr*dw1\n",
    "\n",
    "plt.plot(losses)\n",
    "plt.xlabel(\"Epochs\")\n",
    "plt.ylabel(\"Loss value\")\n",
    "    "
   ]
  },
  {
   "cell_type": "code",
   "execution_count": 24,
   "id": "f2affac2",
   "metadata": {},
   "outputs": [],
   "source": [
    "# Defining Prediction method\n",
    "def predict(w1, w2, input):\n",
    "    z1, a1, z2, a2 = frwd_prop(w1, w2, mlp_test)\n",
    "    a2 = np.squeeze(a2)\n",
    "    if a2 >= 0.5:\n",
    "        print(\"For input\", [i[0] for i in input], \"output is 1\")\n",
    "    else:\n",
    "        print(\"For input\", [i[0] for i in input], \"output is 0\")\n"
   ]
  },
  {
   "cell_type": "code",
   "execution_count": 25,
   "id": "0cd03f46",
   "metadata": {},
   "outputs": [
    {
     "name": "stdout",
     "output_type": "stream",
     "text": [
      "For input [1, 0] output is 1\n",
      "For input [0, 0] output is 0\n",
      "For input [0, 1] output is 1\n",
      "For input [1, 1] output is 0\n"
     ]
    }
   ],
   "source": [
    "# Calling Network Model\n",
    "mlp_test = np.array([[1],[0]])\n",
    "predict(w1, w2, mlp_test)\n",
    "mlp_test = np.array([[0],[0]])\n",
    "predict(w1, w2, mlp_test)\n",
    "mlp_test = np.array([[0],[1]])\n",
    "predict(w1, w2, mlp_test)\n",
    "mlp_test = np.array([[1],[1]])\n",
    "predict(w1, w2, mlp_test)\n"
   ]
  },
  {
   "cell_type": "code",
   "execution_count": null,
   "id": "021671d3",
   "metadata": {},
   "outputs": [],
   "source": []
  },
  {
   "cell_type": "code",
   "execution_count": null,
   "id": "d2a86a0c",
   "metadata": {},
   "outputs": [],
   "source": []
  }
 ],
 "metadata": {
  "kernelspec": {
   "display_name": "Python 3 (ipykernel)",
   "language": "python",
   "name": "python3"
  },
  "language_info": {
   "codemirror_mode": {
    "name": "ipython",
    "version": 3
   },
   "file_extension": ".py",
   "mimetype": "text/x-python",
   "name": "python",
   "nbconvert_exporter": "python",
   "pygments_lexer": "ipython3",
   "version": "3.11.7"
  }
 },
 "nbformat": 4,
 "nbformat_minor": 5
}
